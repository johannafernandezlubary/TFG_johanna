{
 "cells": [
  {
   "cell_type": "code",
   "execution_count": 27,
   "id": "88abb5a0-be50-44c0-a4e4-2c79d6b85f4f",
   "metadata": {},
   "outputs": [
    {
     "name": "stdout",
     "output_type": "stream",
     "text": [
      "The autoreload extension is already loaded. To reload it, use:\n",
      "  %reload_ext autoreload\n"
     ]
    }
   ],
   "source": [
    "%load_ext autoreload\n",
    "%autoreload 2\n"
   ]
  },
  {
   "cell_type": "code",
   "execution_count": 28,
   "id": "15a4191f-6c0e-41e9-9029-0b7f4bce116f",
   "metadata": {},
   "outputs": [],
   "source": [
    "import sys\n",
    "sys.path.append('.')\n",
    "from datetime import datetime\n",
    "import numpy as np\n",
    "import matplotlib.pyplot as plt\n",
    "\n",
    "import incense\n",
    "from incense import ExperimentLoader\n",
    "#from tests.conftest import get_mongo_uri"
   ]
  },
  {
   "cell_type": "code",
   "execution_count": 31,
   "id": "49c4fd37-d227-4e4e-9df9-fef1ce303c6c",
   "metadata": {},
   "outputs": [],
   "source": [
    "loader = ExperimentLoader(\n",
    "    mongo_uri=\"localhost:27017\", \n",
    "    db_name='test_1108'\n",
    ")\n"
   ]
  },
  {
   "cell_type": "code",
   "execution_count": 32,
   "id": "0f1094b7-e8c1-4628-a0c3-47f5edf403f3",
   "metadata": {},
   "outputs": [
    {
     "data": {
      "text/plain": [
       "Experiment(id=1, name=test-experiment)"
      ]
     },
     "execution_count": 32,
     "metadata": {},
     "output_type": "execute_result"
    }
   ],
   "source": [
    "exp = loader.find_by_id(1)\n",
    "exp"
   ]
  },
  {
   "cell_type": "code",
   "execution_count": 33,
   "id": "1943d710-857c-4207-b803-af98c28beab0",
   "metadata": {},
   "outputs": [
    {
     "data": {
      "text/plain": [
       "Experiment(id=1, name=test-experiment)"
      ]
     },
     "execution_count": 33,
     "metadata": {},
     "output_type": "execute_result"
    }
   ],
   "source": [
    "loader.find_latest()"
   ]
  },
  {
   "cell_type": "code",
   "execution_count": 34,
   "id": "5c17eff9-baf4-49e7-8db5-79bdc93b08eb",
   "metadata": {},
   "outputs": [
    {
     "data": {
      "text/plain": [
       "{'format': 'MongoObserver-0.7.0',\n",
       " 'captured_out': 'Reading config from settings.cfg\\nLoading global navigation database...\\nReading cache: data/cache\\\\py3\\\\navdata.p\\nTHRESHOLD 5.0\\nLOOKAHEAD\\n300.0\\ninicia simu\\nmain loop\\nff\\nentra en at to graph\\n',\n",
       " '_id': 1,\n",
       " 'meta': {'command': 'complexity_simulation',\n",
       "  'options': {'--force': False,\n",
       "   '--unobserved': False,\n",
       "   '--enforce_clean': False,\n",
       "   '--tiny_db': None,\n",
       "   '--sql': None,\n",
       "   'with': False,\n",
       "   '--comment': None,\n",
       "   'help': False,\n",
       "   'COMMAND': None,\n",
       "   '--file_storage': None,\n",
       "   '--capture': None,\n",
       "   '--help': False,\n",
       "   '--print-config': False,\n",
       "   '--mongo_db': 'test_1108',\n",
       "   '--beat-interval': None,\n",
       "   '--pdb': False,\n",
       "   '--priority': None,\n",
       "   '--loglevel': None,\n",
       "   '--queue': False,\n",
       "   '--s3': None,\n",
       "   '--name': None,\n",
       "   'UPDATE': [],\n",
       "   '--debug': False}},\n",
       " 'start_time': datetime.datetime(2022, 3, 21, 10, 8, 35, 57000),\n",
       " 'info': {'metrics': [{'id': '62384ead93adb077312f6f72', 'name': 'number_los'},\n",
       "   {'id': '62384ead93adb077312f6f74', 'name': 'number_conflicts'},\n",
       "   {'id': '62384ead93adb077312f6f76', 'name': 'number_comp_conf'},\n",
       "   {'id': '62384ead93adb077312f6f78', 'name': 'conf_size'}]},\n",
       " 'heartbeat': datetime.datetime(2022, 3, 21, 10, 15, 55, 864000),\n",
       " 'host': {'python_version': '3.8.2',\n",
       "  'os': ['Windows', 'Windows-10-10.0.22000-SP0'],\n",
       "  'gpus': {'driver_version': '462.59',\n",
       "   'gpus': [{'total_memory': 2048,\n",
       "     'model': 'GeForce MX250',\n",
       "     'persistence_mode': False}]},\n",
       "  'ENV': {},\n",
       "  'hostname': 'LAPTOP-LH6NAEUM',\n",
       "  'cpu': 'Unknown'},\n",
       " 'resources': [],\n",
       " 'artifacts': [],\n",
       " 'result': None,\n",
       " 'config': {'n_ac': 30,\n",
       "  'radius': 1,\n",
       "  'n_runs': 1,\n",
       "  'n_sources': 10,\n",
       "  'seed': 79478470,\n",
       "  'sim_time': 60,\n",
       "  'center': [47, 9]},\n",
       " 'status': 'RUNNING',\n",
       " 'command': 'complexity_simulation',\n",
       " 'experiment': {'dependencies': ['matplotlib==3.4.3',\n",
       "   'networkx==2.7.1',\n",
       "   'numpy==1.21.2',\n",
       "   'sacred==0.8.2'],\n",
       "  'mainfile': 'johanna_sacred.py',\n",
       "  'sources': [['bluesky\\\\__init__.py', ObjectId('62384ea31452382088b82332')],\n",
       "   ['bluesky\\\\navdatabase\\\\__init__.py', ObjectId('62384ea31452382088b82334')],\n",
       "   ['bluesky\\\\navdatabase\\\\navdatabase.py',\n",
       "    ObjectId('62384ea31452382088b82336')],\n",
       "   ['bluesky\\\\settings.py', ObjectId('62384ea31452382088b82338')],\n",
       "   ['bluesky\\\\simulation\\\\__init__.py', ObjectId('62384ea31452382088b8233a')],\n",
       "   ['bluesky\\\\simulation\\\\simulation.py',\n",
       "    ObjectId('62384ea31452382088b8233c')],\n",
       "   ['bluesky\\\\tools\\\\__init__.py', ObjectId('62384ea31452382088b8233e')],\n",
       "   ['bluesky\\\\tools\\\\geo.py', ObjectId('62384ea31452382088b82340')],\n",
       "   ['bluesky\\\\traffic\\\\__init__.py', ObjectId('62384ea31452382088b82342')],\n",
       "   ['bluesky\\\\traffic\\\\performance\\\\__init__.py',\n",
       "    ObjectId('62384ea31452382088b82344')],\n",
       "   ['bluesky\\\\traffic\\\\performance\\\\perfbase.py',\n",
       "    ObjectId('62384ea31452382088b82346')],\n",
       "   ['bluesky\\\\traffic\\\\route.py', ObjectId('62384ea31452382088b82348')],\n",
       "   ['johanna_sacred.py', ObjectId('62384ea31452382088b8234a')]],\n",
       "  'name': 'test-experiment',\n",
       "  'base_dir': 'C:\\\\Users\\\\joha3\\\\OneDrive\\\\Escriptori\\\\RALVI\\\\bluesky_ralvi\\\\bluesky',\n",
       "  'repositories': [{'commit': 'd26523139c7bf8bd21700042c362f5fe1a8b90bb',\n",
       "    'url': 'https://github.com/TUDelft-CNS-ATM/bluesky.git',\n",
       "    'dirty': True},\n",
       "   {'commit': 'd26523139c7bf8bd21700042c362f5fe1a8b90bb',\n",
       "    'url': 'https://github.com/TUDelft-CNS-ATM/bluesky.git',\n",
       "    'dirty': True},\n",
       "   {'commit': 'd26523139c7bf8bd21700042c362f5fe1a8b90bb',\n",
       "    'url': 'https://github.com/TUDelft-CNS-ATM/bluesky.git',\n",
       "    'dirty': True},\n",
       "   {'commit': 'd26523139c7bf8bd21700042c362f5fe1a8b90bb',\n",
       "    'url': 'https://github.com/TUDelft-CNS-ATM/bluesky.git',\n",
       "    'dirty': True},\n",
       "   {'commit': 'd26523139c7bf8bd21700042c362f5fe1a8b90bb',\n",
       "    'url': 'https://github.com/TUDelft-CNS-ATM/bluesky.git',\n",
       "    'dirty': True},\n",
       "   {'commit': 'd26523139c7bf8bd21700042c362f5fe1a8b90bb',\n",
       "    'url': 'https://github.com/TUDelft-CNS-ATM/bluesky.git',\n",
       "    'dirty': True},\n",
       "   {'commit': 'd26523139c7bf8bd21700042c362f5fe1a8b90bb',\n",
       "    'url': 'https://github.com/TUDelft-CNS-ATM/bluesky.git',\n",
       "    'dirty': True},\n",
       "   {'commit': 'd26523139c7bf8bd21700042c362f5fe1a8b90bb',\n",
       "    'url': 'https://github.com/TUDelft-CNS-ATM/bluesky.git',\n",
       "    'dirty': True},\n",
       "   {'commit': 'd26523139c7bf8bd21700042c362f5fe1a8b90bb',\n",
       "    'url': 'https://github.com/TUDelft-CNS-ATM/bluesky.git',\n",
       "    'dirty': True},\n",
       "   {'commit': 'd26523139c7bf8bd21700042c362f5fe1a8b90bb',\n",
       "    'url': 'https://github.com/TUDelft-CNS-ATM/bluesky.git',\n",
       "    'dirty': True},\n",
       "   {'commit': 'd26523139c7bf8bd21700042c362f5fe1a8b90bb',\n",
       "    'url': 'https://github.com/TUDelft-CNS-ATM/bluesky.git',\n",
       "    'dirty': True},\n",
       "   {'commit': 'd26523139c7bf8bd21700042c362f5fe1a8b90bb',\n",
       "    'url': 'https://github.com/TUDelft-CNS-ATM/bluesky.git',\n",
       "    'dirty': True},\n",
       "   {'commit': 'd26523139c7bf8bd21700042c362f5fe1a8b90bb',\n",
       "    'url': 'https://github.com/TUDelft-CNS-ATM/bluesky.git',\n",
       "    'dirty': True}]}}"
      ]
     },
     "execution_count": 34,
     "metadata": {},
     "output_type": "execute_result"
    }
   ],
   "source": [
    "exp.to_dict()"
   ]
  },
  {
   "cell_type": "code",
   "execution_count": 36,
   "id": "1c510a12-eaa0-479f-87fc-51464e6b4a41",
   "metadata": {},
   "outputs": [
    {
     "data": {
      "text/plain": [
       "datetime.datetime(2022, 3, 21, 10, 8, 35, 57000)"
      ]
     },
     "execution_count": 36,
     "metadata": {},
     "output_type": "execute_result"
    }
   ],
   "source": [
    "exp.start_time"
   ]
  },
  {
   "cell_type": "code",
   "execution_count": 35,
   "id": "ab3897cc-5a2d-4b69-af50-acdbb7a42e78",
   "metadata": {},
   "outputs": [
    {
     "name": "stdout",
     "output_type": "stream",
     "text": [
      "None\n"
     ]
    }
   ],
   "source": [
    "print(exp.result)"
   ]
  },
  {
   "cell_type": "code",
   "execution_count": 37,
   "id": "682c6171-fa62-4086-9a42-a2ce9cf7b069",
   "metadata": {},
   "outputs": [
    {
     "name": "stdout",
     "output_type": "stream",
     "text": [
      "Reading config from settings.cfg\n",
      "Loading global navigation database...\n",
      "Reading cache: data/cache\\py3\\navdata.p\n",
      "THRESHOLD 5.0\n",
      "LOOKAHEAD\n",
      "300.0\n",
      "inicia simu\n",
      "main loop\n",
      "ff\n",
      "entra en at to graph\n",
      "\n"
     ]
    }
   ],
   "source": [
    "print(exp.captured_out)"
   ]
  },
  {
   "cell_type": "code",
   "execution_count": 38,
   "id": "ab66b77e-ee80-4438-87a0-5fe9424020f8",
   "metadata": {},
   "outputs": [
    {
     "data": {
      "text/plain": [
       "pmap({'n_ac': 30, 'radius': 1, 'n_runs': 1, 'n_sources': 10, 'seed': 79478470, 'sim_time': 60, 'center': pvector([47, 9])})"
      ]
     },
     "execution_count": 38,
     "metadata": {},
     "output_type": "execute_result"
    }
   ],
   "source": [
    "exp.config"
   ]
  },
  {
   "cell_type": "code",
   "execution_count": 39,
   "id": "d6004c9d-8f6c-4404-a5cd-1acc9cec2e49",
   "metadata": {},
   "outputs": [
    {
     "data": {
      "text/plain": [
       "dict_keys(['number_los', 'number_conflicts', 'number_comp_conf', 'conf_size'])"
      ]
     },
     "execution_count": 39,
     "metadata": {},
     "output_type": "execute_result"
    }
   ],
   "source": [
    "exp.metrics.keys()"
   ]
  },
  {
   "cell_type": "code",
   "execution_count": 40,
   "id": "8d766a71-7afd-4fcb-b216-f6564cb5b9d3",
   "metadata": {},
   "outputs": [
    {
     "data": {
      "text/plain": [
       "<AxesSubplot:xlabel='step'>"
      ]
     },
     "execution_count": 40,
     "metadata": {},
     "output_type": "execute_result"
    },
    {
     "data": {
      "image/png": "[encoded data removed]",
      "text/plain": [
       "<Figure size 432x288 with 1 Axes>"
      ]
     },
     "metadata": {
      "needs_background": "light"
     },
     "output_type": "display_data"
    }
   ],
   "source": [
    "exp.metrics['number_conflicts'].plot()"
   ]
  },
  {
   "cell_type": "code",
   "execution_count": 41,
   "id": "a236f376-5e02-4fd7-89fe-05f32f2f92b0",
   "metadata": {},
   "outputs": [
    {
     "data": {
      "text/plain": [
       "<AxesSubplot:xlabel='step'>"
      ]
     },
     "execution_count": 41,
     "metadata": {},
     "output_type": "execute_result"
    },
    {
     "data": {
      "image/png": "[encoded data removed]",
      "text/plain": [
       "<Figure size 432x288 with 1 Axes>"
      ]
     },
     "metadata": {
      "needs_background": "light"
     },
     "output_type": "display_data"
    }
   ],
   "source": [
    "exp.metrics['number_los'].plot()"
   ]
  },
  {
   "cell_type": "code",
   "execution_count": 42,
   "id": "2be8a00a-750e-4871-b884-cec284bd8860",
   "metadata": {},
   "outputs": [
    {
     "data": {
      "text/plain": [
       "<AxesSubplot:xlabel='step'>"
      ]
     },
     "execution_count": 42,
     "metadata": {},
     "output_type": "execute_result"
    },
    {
     "data": {
      "image/png": "[encoded data removed]",
      "text/plain": [
       "<Figure size 432x288 with 1 Axes>"
      ]
     },
     "metadata": {
      "needs_background": "light"
     },
     "output_type": "display_data"
    }
   ],
   "source": [
    "exp.metrics['number_comp_conf'].plot()"
   ]
  },
  {
   "cell_type": "code",
   "execution_count": 43,
   "id": "c22c37d9-6c0f-4fa7-98de-89cf6749c5c6",
   "metadata": {},
   "outputs": [
    {
     "data": {
      "text/plain": [
       "<AxesSubplot:xlabel='step'>"
      ]
     },
     "execution_count": 43,
     "metadata": {},
     "output_type": "execute_result"
    },
    {
     "data": {
      "image/png": "[encoded data removed]",
      "text/plain": [
       "<Figure size 432x288 with 1 Axes>"
      ]
     },
     "metadata": {
      "needs_background": "light"
     },
     "output_type": "display_data"
    }
   ],
   "source": [
    "exp.metrics['conf_size'].plot()"
   ]
  },
  {
   "cell_type": "code",
   "execution_count": null,
   "id": "af2f215b-d472-467c-b9c6-80f7ef006151",
   "metadata": {},
   "outputs": [],
   "source": []
  }
 ],
 "metadata": {
  "kernelspec": {
   "display_name": "Python 3 (ipykernel)",
   "language": "python",
   "name": "python3"
  },
  "language_info": {
   "codemirror_mode": {
    "name": "ipython",
    "version": 3
   },
   "file_extension": ".py",
   "mimetype": "text/x-python",
   "name": "python",
   "nbconvert_exporter": "python",
   "pygments_lexer": "ipython3",
   "version": "3.8.2"
  }
 },
 "nbformat": 4,
 "nbformat_minor": 5
}
